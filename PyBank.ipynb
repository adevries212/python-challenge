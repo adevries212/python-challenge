{
 "cells": [
  {
   "cell_type": "code",
   "execution_count": 4,
   "metadata": {},
   "outputs": [],
   "source": [
    "#In this challenge, you are tasked with creating a Python script for analyzing the financial records of your company. \n",
    "#You will be given two sets of revenue data (budget_data_1.csv and budget_data_2.csv). \n",
    "#Each dataset is composed of two columns:\n",
    "    #Date and Revenue\n",
    "#(Thankfully, your company has rather lax standards for accounting so the records are simple.)\n",
    "#Your task is to create a Python script that analyzes the records to calculate each of the following:\n",
    "\n",
    "\n",
    "#The total number of months included in the dataset\n",
    "#The total amount of revenue gained over the entire period\n",
    "#The average change in revenue between months over the entire period\n",
    "#The greatest increase in revenue (date and amount) over the entire period\n",
    "#The greatest decrease in revenue (date and amount) over the entire period"
   ]
  },
  {
   "cell_type": "code",
   "execution_count": 29,
   "metadata": {},
   "outputs": [],
   "source": [
    "import csv\n",
    "\n",
    "file_to_load = \"budget_data_1.csv\"\n"
   ]
  },
  {
   "cell_type": "code",
   "execution_count": 30,
   "metadata": {},
   "outputs": [],
   "source": [
    "# Track various revenue parameters\n",
    "total_months = 0\n",
    "prev_revenue = 0\n",
    "month_of_change = []\n",
    "revenue_change_list = []\n",
    "greatest_increase = [\"\", 0]\n",
    "greatest_decrease = [\"\", 9999999999999999999]\n",
    "total_revenue = 0"
   ]
  },
  {
   "cell_type": "code",
   "execution_count": 35,
   "metadata": {},
   "outputs": [],
   "source": [
    "# Read the csv and convert it into a list of dictionaries\n",
    "with open(file_to_load) as revenue_data:\n",
    "    reader = csv.DictReader(revenue_data)\n",
    "\n",
    "    for row in reader:\n",
    "\n",
    "        # Track the total\n",
    "        total_months = total_months + 1\n",
    "        total_revenue = total_revenue + int(row[\"Revenue\"])\n",
    "\n",
    "        # Track the revenue change\n",
    "        revenue_change = int(row[\"Revenue\"]) - prev_revenue\n",
    "        prev_revenue = int(row[\"Revenue\"])\n",
    "        revenue_change_list = revenue_change_list + [revenue_change]\n",
    "        month_of_change = month_of_change + [row[\"Date\"]]\n",
    "\n",
    "        # Calculate the greatest increase\n",
    "        if (revenue_change > greatest_increase[1]):\n",
    "            greatest_increase[0] = row[\"Date\"]\n",
    "            greatest_increase[1] = revenue_change\n",
    "\n",
    "        # Calculate the greatest decrease\n",
    "        if (revenue_change < greatest_decrease[1]):\n",
    "            greatest_decrease[0] = row[\"Date\"]\n",
    "            greatest_decrease[1] = revenue_change\n",
    "\n"
   ]
  },
  {
   "cell_type": "code",
   "execution_count": 32,
   "metadata": {},
   "outputs": [],
   "source": [
    "revenue_avg = sum(revenue_change_list) / len(revenue_change_list)"
   ]
  },
  {
   "cell_type": "code",
   "execution_count": 33,
   "metadata": {},
   "outputs": [],
   "source": [
    "# Generate Output Summary\n",
    "output = (\n",
    "    f\"\\nFinancial Analysis\\n\"\n",
    "    f\"----------------------------\\n\"\n",
    "    f\"Total Months: {total_months}\\n\"\n",
    "    f\"Total Revenue: ${total_revenue}\\n\"\n",
    "    f\"Average Revenue Change: ${revenue_avg}\\n\"\n",
    "    f\"Greatest Increase in Revenue: {greatest_increase[0]} (${greatest_increase[1]})\\n\"\n",
    "    f\"Greatest Decrease in Revenue: {greatest_decrease[0]} (${greatest_decrease[1]})\\n\")\n"
   ]
  },
  {
   "cell_type": "code",
   "execution_count": 28,
   "metadata": {},
   "outputs": [
    {
     "name": "stdout",
     "output_type": "stream",
     "text": [
      "\n",
      "Financial Analysis\n",
      "----------------------------\n",
      "Total Months: 41\n",
      "Total Revenue: $18971412\n",
      "Average Revenue Change: $21559.365853658535\n",
      "Greatest Increase in Revenue: Feb-16 ($1837235)\n",
      "Greatest Decrease in Revenue: Aug-14 ($-1779747)\n",
      "\n"
     ]
    }
   ],
   "source": [
    "print(output)"
   ]
  },
  {
   "cell_type": "code",
   "execution_count": null,
   "metadata": {},
   "outputs": [],
   "source": []
  }
 ],
 "metadata": {
  "kernelspec": {
   "display_name": "Python 3",
   "language": "python",
   "name": "python3"
  },
  "language_info": {
   "codemirror_mode": {
    "name": "ipython",
    "version": 3
   },
   "file_extension": ".py",
   "mimetype": "text/x-python",
   "name": "python",
   "nbconvert_exporter": "python",
   "pygments_lexer": "ipython3",
   "version": "3.6.4"
  }
 },
 "nbformat": 4,
 "nbformat_minor": 2
}
